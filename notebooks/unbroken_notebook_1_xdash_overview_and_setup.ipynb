{
 "cells": [
  {
   "cell_type": "markdown",
   "metadata": {},
   "source": [
    "# Python Plotly Dash package setup\n",
    "\n",
    "- Dash is a Python package to construct interactive dashboards or web applications using only Python\n",
    "- It acts a way to wrap together:\n",
    "    - HTML and CSS (standard web formating and content creation)\n",
    "    \n",
    "    - Plotly Charts (an interactive plotting package in python with many examples easily available)\n",
    "    \n",
    "    - Dash Core Components (dcc), which include things like pulldown menus and radio buttons\n",
    "    \n",
    "    - Interaction between the core components to control the web-app using callbacks decorating standard python functions\n",
    "    \n",
    "    - It has a built in web-server via the Python FLASK package meaning web-apps can be served directly\n",
    "\n",
    "\n",
    "\n",
    "### The Python packages you will need can be installed with the commands below \n",
    "- pip install pip\n",
    "- pip install pandas\n",
    "- pip install numpy\n",
    "- pip install scipy \n",
    "- pip install dash\n",
    "- pip install dash-auth\n",
    "- pip install requests\n",
    "- pip install matplotlib\n"
   ]
  },
  {
   "cell_type": "code",
   "execution_count": null,
   "metadata": {},
   "outputs": [],
   "source": []
  },
  {
   "cell_type": "markdown",
   "metadata": {},
   "source": [
    "# Overview of Demo Dashboard"
   ]
  },
  {
   "cell_type": "code",
   "execution_count": 1,
   "metadata": {},
   "outputs": [],
   "source": [
    "# Lets impoort dash packages\n",
    "import dash\n",
    "import dash_core_components as dcc\n",
    "import dash_html_components as html"
   ]
  },
  {
   "cell_type": "code",
   "execution_count": 2,
   "metadata": {},
   "outputs": [],
   "source": [
    "# instantiate the dash \n",
    "app = dash.Dash()"
   ]
  },
  {
   "cell_type": "code",
   "execution_count": 3,
   "metadata": {},
   "outputs": [],
   "source": [
    "# First an app that contains only simplest HTML\n",
    "app.layout = html.Div([\n",
    "                html.H1(children='Hypothetical Problem for the Xsensing Dash Web-app  Demo'),\n",
    "                html.H2(children='Outlined using a Dash Web-app (Meta eh?)')\n",
    "])"
   ]
  },
  {
   "cell_type": "code",
   "execution_count": null,
   "metadata": {},
   "outputs": [],
   "source": []
  },
  {
   "cell_type": "markdown",
   "metadata": {},
   "source": [
    "<font color='red' size=6>Now run the web app</font> "
   ]
  },
  {
   "cell_type": "code",
   "execution_count": null,
   "metadata": {},
   "outputs": [],
   "source": []
  },
  {
   "cell_type": "markdown",
   "metadata": {},
   "source": [
    "### Both external and local CSS style sheets can be used to help with the formatting. \n",
    "\n",
    "### For external  Bootstrap css :"
   ]
  },
  {
   "cell_type": "code",
   "execution_count": 4,
   "metadata": {},
   "outputs": [],
   "source": [
    "# Can use external  CSS style sheets can be used to help with the formatting. For example Bootstrap:\n",
    "app.css.append_css({'external_url':'https://cdnjs.cloudflare.com/ajax/libs/normalize/7.0.0/normalize.min.css'})\n",
    "app.css.append_css({'external_url':'https://cdnjs.cloudflare.com/ajax/libs/twitter-bootstrap/4.0.0-beta/css/bootstrap.css'})\n",
    "app.css.config.serve_locally = False"
   ]
  },
  {
   "cell_type": "code",
   "execution_count": null,
   "metadata": {},
   "outputs": [],
   "source": []
  },
  {
   "cell_type": "markdown",
   "metadata": {},
   "source": [
    "### Now add some simple formating"
   ]
  },
  {
   "cell_type": "code",
   "execution_count": 5,
   "metadata": {},
   "outputs": [],
   "source": [
    "# Now the Install instructions\n",
    "app.layout = html.Div([\n",
    "                # OUTERMOST DIV\n",
    "                html.Div([\n",
    "                    html.H1(children='Hypothetical Problem for the Xsensing Dash Web-app  Demo',\n",
    "                            className='mx-auto  text-white'),\n",
    "                    html.H2(children='Outlined using a Dash Web-app (Meta eh?)', \n",
    "                            className='mx-auto  text-white')\n",
    "                    ],\n",
    "                    style={'background-color': '#333333'},\n",
    "                    className='row rounded mx-auto  text-white'\n",
    "                ),\n",
    "                # END OUTERMOST DIV\n",
    "            ])"
   ]
  },
  {
   "cell_type": "markdown",
   "metadata": {},
   "source": [
    "<font color='red' size=6>Run the web app again</font> "
   ]
  },
  {
   "cell_type": "code",
   "execution_count": null,
   "metadata": {},
   "outputs": [],
   "source": []
  },
  {
   "cell_type": "markdown",
   "metadata": {},
   "source": [
    "### Add a bit more CSS and have a look"
   ]
  },
  {
   "cell_type": "code",
   "execution_count": 6,
   "metadata": {},
   "outputs": [],
   "source": [
    "app.layout =  html.Div([\n",
    "              # OUTERMOST DIV\n",
    "                html.Div([\n",
    "                    html.H1(children='Hypothetical Problem for the Xsensing Dash Web-appDemo', \n",
    "                            className='mx-auto  text-white'),\n",
    "                    html.H2(children='Outlined using a Dash Web-app (Meta eh?)', \n",
    "                            className='mx-auto  text-white')\n",
    "                    ],\n",
    "                    style={'background-color': '#333333'},\n",
    "                    className='row rounded'\n",
    "                    ),\n",
    "                    # \n",
    "                    html.Div(children=[\n",
    "                        html.H1(children='So what is this (hypothetical) problem our dashboard needs to solve',\n",
    "                                className='alert alert-success alert-heading mx-auto'\n",
    "                            ),\n",
    "                    ],\n",
    "                    className='row rounded alert alert-success'\n",
    "                    ),\n",
    "                # END OUTERMOST DIV\n",
    "    ])"
   ]
  },
  {
   "cell_type": "markdown",
   "metadata": {},
   "source": [
    "<font color='red' size=6>Run the web app again</font> "
   ]
  },
  {
   "cell_type": "code",
   "execution_count": null,
   "metadata": {},
   "outputs": [],
   "source": []
  },
  {
   "cell_type": "code",
   "execution_count": 114,
   "metadata": {},
   "outputs": [],
   "source": [
    "story_text_1 = '''\n",
    "Mike is a little frustrated, as part of his job he analyses \n",
    "data with the intent of extracting useful information \n",
    "and passing that on to interested parties. Sometimes \n",
    "deciding how much the inferences can be trusted requires detailed \n",
    "or complicated statistical analysis; sometimes the statistics \n",
    "are straight-forward and simple tests can be designed to \n",
    "provide the significance of the result as a plain English statement. \n",
    "In many cases the \"raw statistical significance\" \n",
    "is self evident and does not require any calculation at all\n",
    "but other more sinister issues may be the more important consideration.\n",
    "'''\n",
    "story_text_2='''\n",
    "The problem is that regardless many people ask for the same \n",
    "\"tests\" they have been shown before. have you done a T-test? \n",
    "what's the error bar? Mike thinks much of this could be solved \n",
    "by helping people build some intuition around statistical concepts. \n",
    "The most common case being is a comparison of whether two \n",
    "sample populations are the same (t-test?). \n",
    "'''\n",
    "story_text_3='''\n",
    "To move the situation along, Mike wants a dashboard that will allow \n",
    "the visual comparison of pairs of random samples \n",
    "from arbitrary distributions and also be able to vary the \n",
    "sample sizes. This should allow him to demonstrate that \n",
    "these statistical test can often \"be done\" by \n",
    "eye (not needed to be done at all). \n",
    "And to demonstrate the interplay between \n",
    "\"significance\", \"magnitude\" and \"sample size\"\n",
    "'''"
   ]
  },
  {
   "cell_type": "code",
   "execution_count": 115,
   "metadata": {
    "scrolled": true
   },
   "outputs": [],
   "source": [
    "app.layout =  html.Div([\n",
    "              # OUTERMOST DIV\n",
    "                    # \n",
    "                    html.Div(children=[\n",
    "                        html.H1(children='What is the (hypothetical) problem our dashboard needs to solve',\n",
    "                                className='alert alert-success alert-heading mx-auto'\n",
    "                            ),\n",
    "                    ],\n",
    "                    \n",
    "                    className='row rounded alert alert-success'\n",
    "                    ),\n",
    "\n",
    "\n",
    "                    html.P(story_text_1, className='p-2',style={'font-size':'20px'}),\n",
    "                    html.P(story_text_2, className='p-2',style={'font-size':'20px'}),\n",
    "                    html.P(story_text_3, className='p-2',style={'font-size':'20px'}),  \n",
    "                    html.Div([\n",
    "                    html.H2('The general procedure will go something like this:', className='p-2'),                       \n",
    "                    html.Ul([\n",
    "                            html.Li('Generate the random sample data-sets', \n",
    "                                    className=\"list-group-item\", style={'font-size':'30px'}),\n",
    "                            html.Li('Make the interactive graph that will be needed', \n",
    "                                    className=\"list-group-item\", style={'font-size':'30px'}),\n",
    "                            html.Li('''Make the Layout for the app along with the interactive widgets that allow for \n",
    "                            control of the graph''',\n",
    "                                   className=\"list-group-item\", style={'font-size':'30px'}),\n",
    "                            html.Li('Put the graph and the layout together for a final app',\n",
    "                                   className=\"list-group-item\", style={'font-size':'30px'}),\n",
    "                            html.Li('Deploy',\n",
    "                                   className=\"list-group-item  font-large\", style={'font-size':'30px'}),\n",
    "                        \n",
    "\n",
    "                    ], className=\"list-group text-left\"\n",
    "                    )\n",
    "                \n",
    "                ], className='mx-auto text-center'),\n",
    "                html.P(\"This thing: http://xsensing_dash_demo.utscicdata.io\", \n",
    "                       className=\"text-center\",\n",
    "                       style={'font-size':'30px'}),    \n",
    "    \n",
    "                html.Div(children=[\n",
    "                    html.H1(children='Now off to notebook 2',\n",
    "                            className='alert alert-danger alert-heading mx-auto'\n",
    "                        ),\n",
    "                ],\n",
    "                className='row rounded alert alert-danger'\n",
    "                ),\n",
    "    \n",
    "                # END OUTERMOST DIV\n",
    "    ])"
   ]
  },
  {
   "cell_type": "markdown",
   "metadata": {},
   "source": [
    "<font color='red' size=6>Run the web app again</font> "
   ]
  },
  {
   "cell_type": "code",
   "execution_count": null,
   "metadata": {
    "scrolled": true
   },
   "outputs": [],
   "source": []
  },
  {
   "cell_type": "code",
   "execution_count": null,
   "metadata": {
    "scrolled": true
   },
   "outputs": [],
   "source": []
  },
  {
   "cell_type": "code",
   "execution_count": null,
   "metadata": {},
   "outputs": [],
   "source": []
  },
  {
   "cell_type": "code",
   "execution_count": null,
   "metadata": {
    "scrolled": true
   },
   "outputs": [],
   "source": []
  },
  {
   "cell_type": "code",
   "execution_count": null,
   "metadata": {},
   "outputs": [],
   "source": []
  },
  {
   "cell_type": "code",
   "execution_count": null,
   "metadata": {},
   "outputs": [],
   "source": []
  },
  {
   "cell_type": "code",
   "execution_count": null,
   "metadata": {},
   "outputs": [],
   "source": []
  },
  {
   "cell_type": "code",
   "execution_count": null,
   "metadata": {},
   "outputs": [],
   "source": []
  },
  {
   "cell_type": "code",
   "execution_count": null,
   "metadata": {},
   "outputs": [],
   "source": []
  },
  {
   "cell_type": "code",
   "execution_count": null,
   "metadata": {},
   "outputs": [],
   "source": []
  },
  {
   "cell_type": "code",
   "execution_count": null,
   "metadata": {},
   "outputs": [],
   "source": []
  }
 ],
 "metadata": {
  "hide_input": false,
  "kernelspec": {
   "display_name": "Python 3",
   "language": "python",
   "name": "python3"
  },
  "language_info": {
   "codemirror_mode": {
    "name": "ipython",
    "version": 3
   },
   "file_extension": ".py",
   "mimetype": "text/x-python",
   "name": "python",
   "nbconvert_exporter": "python",
   "pygments_lexer": "ipython3",
   "version": "3.7.5"
  }
 },
 "nbformat": 4,
 "nbformat_minor": 2
}
