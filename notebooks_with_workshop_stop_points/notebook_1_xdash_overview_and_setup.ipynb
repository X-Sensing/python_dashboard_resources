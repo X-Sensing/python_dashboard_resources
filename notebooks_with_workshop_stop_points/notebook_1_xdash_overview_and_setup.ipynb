{
 "cells": [
  {
   "cell_type": "code",
   "execution_count": 1,
   "metadata": {},
   "outputs": [],
   "source": [
    "from helper import stop_point"
   ]
  },
  {
   "cell_type": "markdown",
   "metadata": {},
   "source": [
    "# Python Plotly Dash package setup\n",
    "\n",
    "- Dash is a Python package to construct interactive dashboards or web applications using only Python\n",
    "- It acts a way to wrap together:\n",
    "    - HTML and CSS (standard web formating and content creation)\n",
    "    \n",
    "    - Plotly Charts (an interactive plotting package in python with many examples easily available)\n",
    "    \n",
    "    - Dash Core Components (dcc), which include things like pulldown menus and radio buttons\n",
    "    \n",
    "    - Interaction between the core components to control the web-app using callbacks decorating standard python functions\n",
    "    \n",
    "    - It has a built in web-server via the Python FLASK package meaning web-apps can be served directly\n",
    "\n",
    "\n",
    "\n",
    "### The Python packages you will need can be installed with the commands below \n",
    "- pip install pip\n",
    "- pip install pandas\n",
    "- pip install numpy\n",
    "- pip install scipy \n",
    "- pip install dash\n",
    "- pip install dash-auth\n",
    "- pip install requests\n",
    "- pip install matplotlib\n"
   ]
  },
  {
   "cell_type": "code",
   "execution_count": null,
   "metadata": {},
   "outputs": [],
   "source": []
  },
  {
   "cell_type": "markdown",
   "metadata": {},
   "source": [
    "# Overview of Demo Dashboard"
   ]
  },
  {
   "cell_type": "code",
   "execution_count": 2,
   "metadata": {},
   "outputs": [],
   "source": [
    "# Lets impoort dash packages\n",
    "import dash\n",
    "import dash_core_components as dcc\n",
    "import dash_html_components as html"
   ]
  },
  {
   "cell_type": "code",
   "execution_count": 3,
   "metadata": {},
   "outputs": [],
   "source": [
    "# instantiate the dash \n",
    "app = dash.Dash()"
   ]
  },
  {
   "cell_type": "code",
   "execution_count": 4,
   "metadata": {},
   "outputs": [],
   "source": [
    "# First an app that contains only simplest HTML\n",
    "app.layout = html.Div([\n",
    "                html.H1(children='Hypothetical Problem for the Xsensing Dash Web-app  Demo'),\n",
    "                html.H2(children='Outlined using a Dash Web-app (Meta eh?)')\n",
    "])"
   ]
  },
  {
   "cell_type": "code",
   "execution_count": null,
   "metadata": {},
   "outputs": [],
   "source": []
  },
  {
   "cell_type": "markdown",
   "metadata": {},
   "source": [
    "<font color='red' size=6>Now run the web app</font> "
   ]
  },
  {
   "cell_type": "code",
   "execution_count": 6,
   "metadata": {},
   "outputs": [
    {
     "name": "stdout",
     "output_type": "stream",
     "text": [
      "TODO: We will run the webapp, but first let \n",
      "us look at the syntax for this and discuss the options. \n",
      "\n",
      "press any key to continue\n",
      "\n",
      "\n",
      "\n",
      "\n",
      "\n",
      "Note: that it is not usual to run the app from a notebook! \n",
      "Debug mode should note be used in the Jupyter Notebook.In the app code\n",
      "it will usually be protected by __main__\n",
      "\n",
      "\n",
      "After running you will need to kill the cells by pressing stop \n",
      "before moving on\n",
      "press any key to continue\n",
      " * Serving Flask app \"__main__\" (lazy loading)\n",
      " * Environment: production\n",
      "   WARNING: This is a development server. Do not use it in a production deployment.\n",
      "   Use a production WSGI server instead.\n",
      " * Debug mode: off\n"
     ]
    },
    {
     "name": "stderr",
     "output_type": "stream",
     "text": [
      "INFO:werkzeug: * Running on http://127.0.0.1:8010/ (Press CTRL+C to quit)\n"
     ]
    }
   ],
   "source": [
    "stop_point('''TODO: We will run the webapp, but first let \n",
    "us look at the syntax for this and discuss the options. \n",
    "''')\n",
    "\n",
    "stop_point('''\n",
    "\n",
    "\n",
    "\n",
    "\n",
    "Note: that it is not usual to run the app from a notebook! \n",
    "Debug mode should note be used in the Jupyter Notebook.In the app code\n",
    "it will usually be protected by __main__\n",
    "\n",
    "\n",
    "After running you will need to kill the cells by pressing stop \n",
    "before moving on''')\n",
    "\n",
    "if __name__ == '__main__':\n",
    "    app.run_server(port=8010)"
   ]
  },
  {
   "cell_type": "code",
   "execution_count": null,
   "metadata": {},
   "outputs": [],
   "source": []
  },
  {
   "cell_type": "markdown",
   "metadata": {},
   "source": [
    "### External and local CSS style sheets can be used to help with the formatting. \n",
    "\n",
    "### For external  Bootstrap css :"
   ]
  },
  {
   "cell_type": "code",
   "execution_count": 7,
   "metadata": {},
   "outputs": [],
   "source": [
    "# Can use external  CSS style sheets can be used to help with the formatting. For example Bootstrap:\n",
    "app.css.append_css({'external_url':'https://cdnjs.cloudflare.com/ajax/libs/normalize/7.0.0/normalize.min.css'})\n",
    "app.css.append_css({'external_url':'https://cdnjs.cloudflare.com/ajax/libs/twitter-bootstrap/4.0.0-beta/css/bootstrap.css'})\n",
    "app.css.config.serve_locally = False"
   ]
  },
  {
   "cell_type": "code",
   "execution_count": null,
   "metadata": {},
   "outputs": [],
   "source": []
  },
  {
   "cell_type": "markdown",
   "metadata": {},
   "source": [
    "### Now add some simple formating"
   ]
  },
  {
   "cell_type": "code",
   "execution_count": 8,
   "metadata": {},
   "outputs": [],
   "source": [
    "# Now the Install instructions\n",
    "app.layout = html.Div([\n",
    "                # OUTERMOST DIV\n",
    "                html.Div([\n",
    "                    html.H1(children='Hypothetical Problem for the Xsensing Dash Web-app  Demo',\n",
    "                            className='mx-auto  text-white'),\n",
    "                    html.H2(children='Outlined using a Dash Web-app (Meta eh?)', \n",
    "                            className='mx-auto  text-white')\n",
    "                    ],\n",
    "                    style={'background-color': '#333333'},\n",
    "                    className='row rounded mx-auto  text-white'\n",
    "                ),\n",
    "                # END OUTERMOST DIV\n",
    "            ])"
   ]
  },
  {
   "cell_type": "code",
   "execution_count": 9,
   "metadata": {
    "scrolled": false
   },
   "outputs": [
    {
     "name": "stdout",
     "output_type": "stream",
     "text": [
      "TODO: We have added className to the Dash html components. What does this do and what other \n",
      "parameters are there\n",
      "press any key to continue\n",
      " * Serving Flask app \"__main__\" (lazy loading)\n",
      " * Environment: production\n",
      "   WARNING: This is a development server. Do not use it in a production deployment.\n",
      "   Use a production WSGI server instead.\n",
      " * Debug mode: off\n"
     ]
    },
    {
     "name": "stderr",
     "output_type": "stream",
     "text": [
      "INFO:werkzeug: * Running on http://127.0.0.1:8010/ (Press CTRL+C to quit)\n"
     ]
    }
   ],
   "source": [
    "stop_point('''TODO: We have added className to the Dash html components. What does this do and what other \n",
    "parameters are there''')\n",
    "\n",
    "app.run_server(port=8010)"
   ]
  },
  {
   "cell_type": "markdown",
   "metadata": {},
   "source": [
    "<font color='red' size=6>Run the web app again</font> "
   ]
  },
  {
   "cell_type": "code",
   "execution_count": null,
   "metadata": {},
   "outputs": [],
   "source": []
  },
  {
   "cell_type": "markdown",
   "metadata": {},
   "source": [
    "### Add a bit more CSS and have a look"
   ]
  },
  {
   "cell_type": "code",
   "execution_count": 10,
   "metadata": {},
   "outputs": [],
   "source": [
    "app.layout =  html.Div([\n",
    "              # OUTERMOST DIV\n",
    "                html.Div([\n",
    "                    html.H1(children='Hypothetical Problem for the Xsensing Dash Web-appDemo', \n",
    "                            className='mx-auto  text-white'),\n",
    "                    html.H2(children='Outlined using a Dash Web-app (Meta eh?)', \n",
    "                            className='mx-auto  text-white')\n",
    "                    ],\n",
    "                    style={'background-color': '#333333'},\n",
    "                    className='row rounded'\n",
    "                    ),\n",
    "                    # \n",
    "                    html.Div(children=[\n",
    "                        html.H1(children='So what is this (hypothetical) problem our dashboard needs to solve',\n",
    "                                className='alert alert-success alert-heading mx-auto'\n",
    "                            ),\n",
    "                    ],\n",
    "                    className='row rounded alert alert-success'\n",
    "                    ),\n",
    "                # END OUTERMOST DIV\n",
    "    ])"
   ]
  },
  {
   "cell_type": "markdown",
   "metadata": {},
   "source": [
    "<font color='red' size=6>Run the web app again</font> "
   ]
  },
  {
   "cell_type": "code",
   "execution_count": 11,
   "metadata": {},
   "outputs": [
    {
     "name": "stdout",
     "output_type": "stream",
     "text": [
      "TODO: run the webapp\n",
      "press any key to continue\n",
      " * Serving Flask app \"__main__\" (lazy loading)\n",
      " * Environment: production\n",
      "   WARNING: This is a development server. Do not use it in a production deployment.\n",
      "   Use a production WSGI server instead.\n",
      " * Debug mode: off\n"
     ]
    },
    {
     "name": "stderr",
     "output_type": "stream",
     "text": [
      "INFO:werkzeug: * Running on http://127.0.0.1:8010/ (Press CTRL+C to quit)\n"
     ]
    }
   ],
   "source": [
    "stop_point('''TODO: run the webapp''')\n",
    "\n",
    "app.run_server(port=8010)"
   ]
  },
  {
   "cell_type": "code",
   "execution_count": null,
   "metadata": {},
   "outputs": [],
   "source": []
  },
  {
   "cell_type": "code",
   "execution_count": 12,
   "metadata": {},
   "outputs": [],
   "source": [
    "story_text_1 = '''\n",
    "Mike is a little frustrated, as part of his job he analyses data with the intent of extracting useful information \n",
    "and passing that on to interested parties. Sometimes deciding how much the inferences can be trusted requires detailed \n",
    "or complicated statistical analysis; \n",
    "sometimes the statistics are straight-forward and simple tests can be designed to provide the significance of \n",
    "the result as a plain English statement. In many cases the \"raw statistical significance\" \n",
    "is self evident and does not require any calculation at all \n",
    "but other more sinister issues may be the more important consideration.\n",
    "'''\n",
    "story_text_2='''\n",
    "The problem is that regardless many people ask for the same \"tests\" they have been shown before. have you done a T-test? \n",
    "what's the error bar? Mike thinks much of this could be solved by building some intuition. With the \n",
    "most common case being comparison of whether two samples are the same (t-test?). \n",
    "'''\n",
    "story_text_3='''\n",
    "To move the situation along, Mike wants a dashboard that will allow the visual comparison of pairs of random samples \n",
    "from arbitrary distributions and also be able to vary the sample sizes. This should allow him to demonstrate that \n",
    "these statistical test can often \"(not) be done\" by eye. And to demonstrate the interplay between \n",
    "\"significance\", \"magnitude\" and \"sample size\"\n",
    "'''"
   ]
  },
  {
   "cell_type": "code",
   "execution_count": 13,
   "metadata": {
    "scrolled": true
   },
   "outputs": [],
   "source": [
    "app.layout =  html.Div([\n",
    "              # OUTERMOST DIV\n",
    "                    # \n",
    "                    html.Div(children=[\n",
    "                        html.H1(children='What is the (hypothetical) problem our dashboard needs to solve',\n",
    "                                className='alert alert-success alert-heading mx-auto'\n",
    "                            ),\n",
    "                    ],\n",
    "                    \n",
    "                    className='row rounded alert alert-success'\n",
    "                    ),\n",
    "\n",
    "\n",
    "                    html.P(story_text_1, className='p-2',style={'font-size':'20px'}),\n",
    "                    html.P(story_text_2, className='p-2',style={'font-size':'20px'}),\n",
    "                    html.P(story_text_3, className='p-2',style={'font-size':'20px'}),  \n",
    "                    html.Div([\n",
    "                    html.H2('The general procedure will go something like this:', className='p-2'),                       \n",
    "                    html.Ul([\n",
    "                            html.Li('Generate the random sample data-sets', \n",
    "                                    className=\"list-group-item\", style={'font-size':'30px'}),\n",
    "                            html.Li('Make the interactive graph that will be needed', \n",
    "                                    className=\"list-group-item\", style={'font-size':'30px'}),\n",
    "                            html.Li('''Make the Layout for the app along with the interactive widgets that allow for \n",
    "                            control of the graph''',\n",
    "                                   className=\"list-group-item\", style={'font-size':'30px'}),\n",
    "                            html.Li('Put the graph and the layout together for a final app',\n",
    "                                   className=\"list-group-item\", style={'font-size':'30px'}),\n",
    "                            html.Li('Deploy',\n",
    "                                   className=\"list-group-item  font-large\", style={'font-size':'30px'}),\n",
    "                        \n",
    "\n",
    "                    ], className=\"list-group text-left\"\n",
    "                    )\n",
    "                \n",
    "                ], className='mx-auto text-center'),\n",
    "                html.P(\"This thing: http://xsensing_dash_demo.utscicdata.io\", \n",
    "                       className=\"text-center\",\n",
    "                       style={'font-size':'30px'}),    \n",
    "    \n",
    "                html.Div(children=[\n",
    "                    html.H1(children='Now off to notebook 2',\n",
    "                            className='alert alert-danger alert-heading mx-auto'\n",
    "                        ),\n",
    "                ],\n",
    "                className='row rounded alert alert-danger'\n",
    "                ),\n",
    "    \n",
    "                # END OUTERMOST DIV\n",
    "    ])"
   ]
  },
  {
   "cell_type": "markdown",
   "metadata": {},
   "source": [
    "<font color='red' size=6>Run the web app again</font> "
   ]
  },
  {
   "cell_type": "code",
   "execution_count": 14,
   "metadata": {
    "scrolled": true
   },
   "outputs": [
    {
     "name": "stdout",
     "output_type": "stream",
     "text": [
      "TODO: run the webapp\n",
      "press any key to continue\n",
      " * Serving Flask app \"__main__\" (lazy loading)\n",
      " * Environment: production\n",
      "   WARNING: This is a development server. Do not use it in a production deployment.\n",
      "   Use a production WSGI server instead.\n",
      " * Debug mode: off\n"
     ]
    },
    {
     "name": "stderr",
     "output_type": "stream",
     "text": [
      "INFO:werkzeug: * Running on http://127.0.0.1:8010/ (Press CTRL+C to quit)\n",
      "INFO:werkzeug:127.0.0.1 - - [27/Nov/2019 11:05:42] \"\u001b[37mGET / HTTP/1.1\u001b[0m\" 200 -\n",
      "INFO:werkzeug:127.0.0.1 - - [27/Nov/2019 11:05:42] \"\u001b[37mGET /_dash-dependencies HTTP/1.1\u001b[0m\" 200 -\n",
      "INFO:werkzeug:127.0.0.1 - - [27/Nov/2019 11:05:42] \"\u001b[37mGET /_dash-layout HTTP/1.1\u001b[0m\" 200 -\n",
      "INFO:werkzeug:127.0.0.1 - - [27/Nov/2019 11:05:42] \"\u001b[37mGET /_favicon.ico?v=1.6.1 HTTP/1.1\u001b[0m\" 200 -\n"
     ]
    }
   ],
   "source": [
    "stop_point('''TODO: run the webapp''')\n",
    "app.run_server(port=8010)"
   ]
  },
  {
   "cell_type": "code",
   "execution_count": null,
   "metadata": {
    "scrolled": true
   },
   "outputs": [],
   "source": []
  },
  {
   "cell_type": "code",
   "execution_count": null,
   "metadata": {},
   "outputs": [],
   "source": []
  },
  {
   "cell_type": "code",
   "execution_count": null,
   "metadata": {
    "scrolled": true
   },
   "outputs": [],
   "source": []
  },
  {
   "cell_type": "code",
   "execution_count": null,
   "metadata": {},
   "outputs": [],
   "source": []
  },
  {
   "cell_type": "code",
   "execution_count": null,
   "metadata": {},
   "outputs": [],
   "source": []
  },
  {
   "cell_type": "code",
   "execution_count": null,
   "metadata": {},
   "outputs": [],
   "source": []
  },
  {
   "cell_type": "code",
   "execution_count": null,
   "metadata": {},
   "outputs": [],
   "source": []
  },
  {
   "cell_type": "code",
   "execution_count": null,
   "metadata": {},
   "outputs": [],
   "source": []
  },
  {
   "cell_type": "code",
   "execution_count": null,
   "metadata": {},
   "outputs": [],
   "source": []
  },
  {
   "cell_type": "code",
   "execution_count": null,
   "metadata": {},
   "outputs": [],
   "source": []
  }
 ],
 "metadata": {
  "hide_input": false,
  "kernelspec": {
   "display_name": "Python 3",
   "language": "python",
   "name": "python3"
  },
  "language_info": {
   "codemirror_mode": {
    "name": "ipython",
    "version": 3
   },
   "file_extension": ".py",
   "mimetype": "text/x-python",
   "name": "python",
   "nbconvert_exporter": "python",
   "pygments_lexer": "ipython3",
   "version": "3.7.5"
  }
 },
 "nbformat": 4,
 "nbformat_minor": 2
}
