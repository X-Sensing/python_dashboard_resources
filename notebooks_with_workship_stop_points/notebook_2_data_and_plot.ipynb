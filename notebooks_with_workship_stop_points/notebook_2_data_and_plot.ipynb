{
 "cells": [
  {
   "cell_type": "code",
   "execution_count": null,
   "metadata": {},
   "outputs": [],
   "source": [
    "import pandas as pd\n",
    "from scipy import stats\n",
    "import numpy as np\n",
    "from IPython.core.display import HTML\n",
    "import matplotlib.pyplot as plt\n",
    "import plotly\n",
    "import plotly.graph_objs as go"
   ]
  },
  {
   "cell_type": "markdown",
   "metadata": {},
   "source": [
    "# Notebook for making the demo data-set and interactive plot"
   ]
  },
  {
   "cell_type": "markdown",
   "metadata": {},
   "source": [
    "### Start with an example lets start by drawing sample points from a normal distribution"
   ]
  },
  {
   "cell_type": "code",
   "execution_count": null,
   "metadata": {
    "scrolled": true
   },
   "outputs": [],
   "source": [
    "normal_50 = stats.norm.rvs(loc=50, scale=10, size=10000, random_state=None)"
   ]
  },
  {
   "cell_type": "code",
   "execution_count": null,
   "metadata": {},
   "outputs": [],
   "source": [
    "stop_and_think='''TODO:  print normal_50 to look at the data'''\n",
    "print(stop_and_think)\n",
    "broken"
   ]
  },
  {
   "cell_type": "code",
   "execution_count": null,
   "metadata": {},
   "outputs": [],
   "source": [
    "stop_and_think='''This can be printed nicer using pandas'''\n",
    "print(stop_and_think)\n",
    "broken"
   ]
  },
  {
   "cell_type": "markdown",
   "metadata": {},
   "source": [
    "### Make a static histogram plot of the data with matplotlib (a common plotting package in python)"
   ]
  },
  {
   "cell_type": "code",
   "execution_count": null,
   "metadata": {
    "scrolled": false
   },
   "outputs": [],
   "source": [
    "fig, ax = plt.subplots(1, 1, figsize=(10,8))\n",
    "\n",
    "ax.hist(normal_50, density=True, histtype='stepfilled', bins=range(0,100), alpha=0.8)\n",
    "#\n",
    "ax.tick_params('both', labelsize=20)\n",
    "ax.set_xlabel('X', fontsize=20)\n",
    "ax.set_ylabel('Density(x=X)', fontsize=20);"
   ]
  },
  {
   "cell_type": "markdown",
   "metadata": {},
   "source": [
    "### Now make an interactive Plotly version of this\n",
    "\n",
    "#### Plotly is the plotting package used by is used by the dashboard package Dash \n",
    "\n",
    "A Plotly figure is made up of two key components: \n",
    "     1. data\n",
    "     2. layout\n",
    "These are stored as a python dictionary with keys: data and layout. e.g.\n",
    "\n",
    "figure = {'data': data, 'layout': layout}"
   ]
  },
  {
   "cell_type": "markdown",
   "metadata": {},
   "source": [
    "### Layout controls properties of the figure"
   ]
  },
  {
   "cell_type": "code",
   "execution_count": null,
   "metadata": {},
   "outputs": [],
   "source": [
    "layout = {\n",
    "     'yaxis': dict(title='Density(x=X)'),\n",
    "     'xaxis': dict(title='X'),\n",
    "          }  "
   ]
  },
  {
   "cell_type": "code",
   "execution_count": null,
   "metadata": {},
   "outputs": [],
   "source": [
    "stop_and_think='''TODO: what type of object is layout'''\n",
    "print(stop_and_think)\n",
    "broke"
   ]
  },
  {
   "cell_type": "markdown",
   "metadata": {},
   "source": [
    "### Data controls the plot that is being constructed from the data: in this case a histogram. "
   ]
  },
  {
   "cell_type": "code",
   "execution_count": null,
   "metadata": {},
   "outputs": [],
   "source": [
    "# data controls the plot that is being constructed from the data: in this case a histogram. \n",
    "# Wehave set some of the many available optional parameters\n",
    "data = go.Histogram(\n",
    "        x=normal_50,\n",
    "        histnorm='probability',\n",
    "        opacity=0.4,\n",
    "        name='Normal(mu=50)'\n",
    "    )"
   ]
  },
  {
   "cell_type": "code",
   "execution_count": null,
   "metadata": {
    "scrolled": false
   },
   "outputs": [],
   "source": [
    "stop_and_think='''TODO: what type of object is data'''\n",
    "print(stop_and_think)\n",
    "broken"
   ]
  },
  {
   "cell_type": "code",
   "execution_count": null,
   "metadata": {},
   "outputs": [],
   "source": [
    "stop_and_think='''Can we look at how it is used and it's methods?'''\n",
    "print(stop_and_think)\n",
    "broken"
   ]
  },
  {
   "cell_type": "markdown",
   "metadata": {},
   "source": [
    "### Putting them together into a dictionary with keys data and plot we make our figure object"
   ]
  },
  {
   "cell_type": "code",
   "execution_count": null,
   "metadata": {
    "scrolled": false
   },
   "outputs": [],
   "source": [
    "# Putting them together we get the plot\n",
    "figure = {'data': data, 'layout': layout}\n",
    "go.Figure(figure)"
   ]
  },
  {
   "cell_type": "markdown",
   "metadata": {},
   "source": [
    "### To put multiple plots on the same figure: simply give the figure object a list of data objects\n",
    "- To overlay a second normal distribution but centred at 60 rather than 50:"
   ]
  },
  {
   "cell_type": "code",
   "execution_count": null,
   "metadata": {},
   "outputs": [],
   "source": [
    "normal_60 = stats.norm.rvs(loc=60, scale=10, size=10000, random_state=None)"
   ]
  },
  {
   "cell_type": "code",
   "execution_count": null,
   "metadata": {},
   "outputs": [],
   "source": [
    "# First repeat the code for the previous example but change the variable name for the data --> data_1\n",
    "# layout controls properties of the figure\n",
    "layout = {\n",
    "     'yaxis': dict(title='Density(x=X)'),\n",
    "     'xaxis': dict(title='X'),\n",
    "          }  \n",
    "\n",
    "\n",
    "# \n",
    "data_1 = go.Histogram(\n",
    "    x=normal_50,\n",
    "    histnorm='probability',\n",
    "    opacity=0.4,\n",
    "    name='Normal(mu=50)'\n",
    "    )\n",
    "\n",
    "# now make data_2 with the distribution centered at 60\n",
    "data_2 = go.Histogram(\n",
    "    x=normal_60,\n",
    "    histnorm='probability',\n",
    "    opacity=0.4,\n",
    "    name='Normal(mu=60)'\n",
    "    )\n",
    "\n",
    "\n"
   ]
  },
  {
   "cell_type": "code",
   "execution_count": null,
   "metadata": {},
   "outputs": [],
   "source": [
    "# Now make the figure but giving a list containg both data objects\n",
    "figure = {'data': [data_1, data_2], 'layout': layout}\n",
    "go.Figure(figure)"
   ]
  },
  {
   "cell_type": "code",
   "execution_count": null,
   "metadata": {},
   "outputs": [],
   "source": []
  },
  {
   "cell_type": "code",
   "execution_count": null,
   "metadata": {},
   "outputs": [],
   "source": [
    "#TODO\n",
    "def overlay_two_histograms(dist_1, dist_2):\n",
    "    layout = {\n",
    "     'yaxis': dict(title='Density(x=X)'),\n",
    "     'xaxis': dict(title='X'),\n",
    "          }  \n",
    "\n",
    "    data_1 = go.Histogram(\n",
    "        x=dist_1,\n",
    "        histnorm='probability',\n",
    "        opacity=0.4,\n",
    "        name='data set 1'\n",
    "        )\n",
    "\n",
    "    # now make data_2 with the distribution centered at 60\n",
    "    data_2 = go.Histogram(\n",
    "        x=dist_2,\n",
    "        histnorm='probability',\n",
    "        opacity=0.4,\n",
    "        name='data set 2'\n",
    "        )\n",
    "    # pass both \"data graph objects and the layout to figure\"\n",
    "    figure = {'data': [data_1, data_2], 'layout': layout}\n",
    "    return figure"
   ]
  },
  {
   "cell_type": "code",
   "execution_count": null,
   "metadata": {},
   "outputs": [],
   "source": [
    "go.Figure(overlay_two_histograms(normal_50, normal_60))"
   ]
  },
  {
   "cell_type": "markdown",
   "metadata": {},
   "source": [
    "<font color='red' size=30>Exercise 1</font> "
   ]
  },
  {
   "cell_type": "markdown",
   "metadata": {},
   "source": [
    "### Task: make a total 10 similar data-sets but with different distributions, centers and widths.\n",
    "- use a different variable name (be descriptive for each one)\n",
    "- fix the sample size at 10000\n",
    "- For the distributions I used normal distributions (like above), the uniform distribution and cauchy distributions. But feel free to experiment!\n",
    "- You can plot pairs together to see what they look like using the function above\n",
    "- to get help on how to use the distributions you can use the help() function, e.g:\n",
    "    \n",
    "    help(stats.cauchy.rvs)\n",
    " "
   ]
  },
  {
   "cell_type": "code",
   "execution_count": null,
   "metadata": {},
   "outputs": [],
   "source": [
    "print(\"do this?\")\n",
    "broken"
   ]
  },
  {
   "cell_type": "code",
   "execution_count": null,
   "metadata": {},
   "outputs": [],
   "source": []
  },
  {
   "cell_type": "code",
   "execution_count": null,
   "metadata": {},
   "outputs": [],
   "source": []
  },
  {
   "cell_type": "code",
   "execution_count": null,
   "metadata": {},
   "outputs": [],
   "source": []
  },
  {
   "cell_type": "code",
   "execution_count": null,
   "metadata": {},
   "outputs": [],
   "source": []
  },
  {
   "cell_type": "code",
   "execution_count": null,
   "metadata": {},
   "outputs": [],
   "source": [
    "# Mike's answer \n",
    "sample_size = 10000\n",
    "\n",
    "uniform = stats.uniform.rvs(scale=100, size=sample_size)\n",
    "#\n",
    "norm_50_10 = stats.norm.rvs(loc=50, scale=10, size=sample_size, random_state=None)\n",
    "norm_51_10 = stats.norm.rvs(loc=51, scale=10, size=sample_size, random_state=None)\n",
    "norm_60_10 = stats.norm.rvs(loc=60, scale=10, size=sample_size, random_state=None)\n",
    "norm_20_10 = stats.norm.rvs(loc=20, scale=10, size=sample_size, random_state=None)\n",
    "#\n",
    "norm_50_25 = stats.norm.rvs(loc=50, scale=25, size=sample_size, random_state=None)\n",
    "norm_51_25 = stats.norm.rvs(loc=51, scale=25, size=sample_size, random_state=None)\n",
    "norm_60_25 = stats.norm.rvs(loc=60, scale=25, size=sample_size, random_state=None)\n",
    "\n",
    "cauchy_50_10 = stats.cauchy.rvs(loc=50, scale=10, size=sample_size, random_state=None)\n",
    "cauchy_60_25 = stats.cauchy.rvs(loc=50, scale=25, size=sample_size, random_state=None)\n"
   ]
  },
  {
   "cell_type": "markdown",
   "metadata": {},
   "source": [
    "### Finally pack up our data into a pandas DataFrame and save it to disk so we can load it in when we make the webapp"
   ]
  },
  {
   "cell_type": "code",
   "execution_count": null,
   "metadata": {},
   "outputs": [],
   "source": [
    "data={\n",
    "    'uniform':uniform, \n",
    "    'norm_50_10':norm_50_10, \n",
    "    'norm_51_10':norm_51_10, \n",
    "    'norm_60_10':norm_60_10, \n",
    "    'norm_20_10':norm_20_10, \n",
    "    'norm_50_25':norm_50_25, \n",
    "    'norm_51_25':norm_51_25, \n",
    "    'norm_60_25':norm_60_25,\n",
    "    'cauchy_50_10':cauchy_50_10, \n",
    "    'cauchy_60_25':cauchy_60_25\n",
    "}"
   ]
  },
  {
   "cell_type": "code",
   "execution_count": null,
   "metadata": {},
   "outputs": [],
   "source": [
    "stop_and_think='''TODO: put the data into a a pandas dataframe'''\n",
    "print(stop_and_think)\n",
    "df = broken"
   ]
  },
  {
   "cell_type": "code",
   "execution_count": null,
   "metadata": {},
   "outputs": [],
   "source": [
    "# lets see what it looks like\n",
    "df.head()"
   ]
  },
  {
   "cell_type": "markdown",
   "metadata": {},
   "source": [
    "### Save to a Pandas data-frame as a pickle file"
   ]
  },
  {
   "cell_type": "code",
   "execution_count": null,
   "metadata": {},
   "outputs": [],
   "source": [
    "# save the datafile\n",
    "df.to_pickle('../data/df_random_distributions.pickle')\n",
    "# read the data-set back in:\n",
    "#df.read_pickle('../data/df_random_distributions.pickle')"
   ]
  },
  {
   "cell_type": "code",
   "execution_count": null,
   "metadata": {},
   "outputs": [],
   "source": []
  },
  {
   "cell_type": "code",
   "execution_count": null,
   "metadata": {},
   "outputs": [],
   "source": []
  },
  {
   "cell_type": "markdown",
   "metadata": {},
   "source": [
    "### Now lets make a function that makes the graph that will display in our dash app\n",
    "- Our goal is to statistically test the similarity of two samples using only our peepers\n",
    "- We are almost there with the function that overlays histograms but...\n",
    "\n",
    "An unavoidable source of noise when sampling from a distribution is the \"counting noise\" that arises from the finite sample size and randomness of the sampling process. Small samples sizes are more noise and this purely random statistical noise approaches 0 as the sample size increase toward the limit. \n",
    "\n",
    "### How well we can contrast two samples depends on both the intrinsic difference (big differences are easy to see) and the sample size (noise blurs out our knowledge).\n",
    "So we will need the ability to toggle our sample size as well as compare intrinsically different distributions "
   ]
  },
  {
   "cell_type": "code",
   "execution_count": null,
   "metadata": {},
   "outputs": [],
   "source": [
    "def t_by_eye(name_sample_1, sample_size_1, name_sample_2, sample_size_2):\n",
    "    x_1 = df[name_sample_1].sample(sample_size_1).values\n",
    "    x_2 = df[name_sample_2].sample(sample_size_2).values\n",
    "\n",
    "    layout = {\n",
    "        'yaxis': dict(title='Density(X)'),\n",
    "        'xaxis': dict(title='X'),\n",
    "        'barmode': 'overlay',\n",
    "        'bargap': 0,\n",
    "        'bargroupgap': 0,\n",
    "    }\n",
    "\n",
    "    data_1 = go.Histogram(\n",
    "        x=x_1,\n",
    "        histnorm='probability',\n",
    "        opacity=0.4,\n",
    "        name=name_sample_1,\n",
    "        bingroup='a',\n",
    "        xbins=dict(\n",
    "            start=0.0,\n",
    "            end=100,\n",
    "        ),\n",
    "\n",
    "    )\n",
    "\n",
    "    data_2 = go.Histogram(\n",
    "        x=x_2,\n",
    "        histnorm='probability',\n",
    "        opacity=0.4,\n",
    "        name=name_sample_2,\n",
    "        bingroup='a',\n",
    "        xbins=dict(\n",
    "            start=0.0,\n",
    "            end=100,\n",
    "        ),\n",
    "    )\n",
    "    data = [data_1, data_2]\n",
    "    figure = {'data': data, 'layout': layout}\n",
    "    return figure"
   ]
  },
  {
   "cell_type": "code",
   "execution_count": null,
   "metadata": {},
   "outputs": [],
   "source": [
    "go.Figure(t_by_eye('norm_20_10', 1000, 'norm_51_10', 2000))"
   ]
  },
  {
   "cell_type": "code",
   "execution_count": null,
   "metadata": {},
   "outputs": [],
   "source": []
  },
  {
   "cell_type": "markdown",
   "metadata": {},
   "source": [
    "## Now move on to the first intermediate app code:\n",
    "\n",
    "- nb_full_app_intermediate_1.ipynb"
   ]
  },
  {
   "cell_type": "code",
   "execution_count": null,
   "metadata": {},
   "outputs": [],
   "source": []
  },
  {
   "cell_type": "code",
   "execution_count": null,
   "metadata": {},
   "outputs": [],
   "source": []
  },
  {
   "cell_type": "code",
   "execution_count": null,
   "metadata": {},
   "outputs": [],
   "source": []
  },
  {
   "cell_type": "code",
   "execution_count": null,
   "metadata": {},
   "outputs": [],
   "source": []
  },
  {
   "cell_type": "code",
   "execution_count": null,
   "metadata": {
    "scrolled": true
   },
   "outputs": [],
   "source": []
  },
  {
   "cell_type": "code",
   "execution_count": null,
   "metadata": {},
   "outputs": [],
   "source": []
  },
  {
   "cell_type": "code",
   "execution_count": null,
   "metadata": {},
   "outputs": [],
   "source": []
  },
  {
   "cell_type": "code",
   "execution_count": null,
   "metadata": {
    "scrolled": true
   },
   "outputs": [],
   "source": []
  },
  {
   "cell_type": "code",
   "execution_count": null,
   "metadata": {},
   "outputs": [],
   "source": []
  },
  {
   "cell_type": "code",
   "execution_count": null,
   "metadata": {},
   "outputs": [],
   "source": []
  },
  {
   "cell_type": "code",
   "execution_count": null,
   "metadata": {
    "scrolled": false
   },
   "outputs": [],
   "source": []
  },
  {
   "cell_type": "code",
   "execution_count": null,
   "metadata": {},
   "outputs": [],
   "source": []
  },
  {
   "cell_type": "code",
   "execution_count": null,
   "metadata": {},
   "outputs": [],
   "source": []
  },
  {
   "cell_type": "code",
   "execution_count": null,
   "metadata": {
    "scrolled": true
   },
   "outputs": [],
   "source": []
  },
  {
   "cell_type": "code",
   "execution_count": null,
   "metadata": {},
   "outputs": [],
   "source": []
  }
 ],
 "metadata": {
  "hide_input": false,
  "kernelspec": {
   "display_name": "Python 3",
   "language": "python",
   "name": "python3"
  },
  "language_info": {
   "codemirror_mode": {
    "name": "ipython",
    "version": 3
   },
   "file_extension": ".py",
   "mimetype": "text/x-python",
   "name": "python",
   "nbconvert_exporter": "python",
   "pygments_lexer": "ipython3",
   "version": "3.7.5"
  }
 },
 "nbformat": 4,
 "nbformat_minor": 2
}
